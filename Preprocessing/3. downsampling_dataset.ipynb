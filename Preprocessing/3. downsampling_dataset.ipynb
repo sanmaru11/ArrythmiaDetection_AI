{
 "cells": [
  {
   "cell_type": "code",
   "execution_count": 3,
   "metadata": {},
   "outputs": [],
   "source": [
    "import pandas as pd\n",
    "import numpy as np\n",
    "\n",
    "# 원본 CSV 파일 읽기\n",
    "df_test = pd.read_csv('test_input.csv', header=None)\n",
    "\n",
    "# 다운샘플링 비율 설정\n",
    "original_length = 360\n",
    "downsampled_length = 90  # 원하는 다운샘플링 후 길이\n",
    "\n",
    "# 다운샘플링 함수 정의\n",
    "def downsample_row(row, original_length, downsampled_length):\n",
    "    indices = np.linspace(0, original_length - 1, downsampled_length).astype(int)\n",
    "    return row.iloc[indices].values\n",
    "\n",
    "# 각 행에 대해 다운샘플링 적용\n",
    "downsampled_data = df_test.apply(lambda row: downsample_row(row, original_length, downsampled_length), axis=1)\n",
    "\n",
    "# 다운샘플링된 데이터를 DataFrame으로 변환\n",
    "downsampled_df = pd.DataFrame(downsampled_data.tolist())\n",
    "\n",
    "# 새로운 CSV 파일로 저장\n",
    "downsampled_df.to_csv('test_output_DS.csv', index=False, header=False)\n"
   ]
  }
 ],
 "metadata": {
  "kernelspec": {
   "display_name": "arrhythmiaEmbedded",
   "language": "python",
   "name": "python3"
  },
  "language_info": {
   "codemirror_mode": {
    "name": "ipython",
    "version": 3
   },
   "file_extension": ".py",
   "mimetype": "text/x-python",
   "name": "python",
   "nbconvert_exporter": "python",
   "pygments_lexer": "ipython3",
   "version": "3.10.13"
  }
 },
 "nbformat": 4,
 "nbformat_minor": 2
}
